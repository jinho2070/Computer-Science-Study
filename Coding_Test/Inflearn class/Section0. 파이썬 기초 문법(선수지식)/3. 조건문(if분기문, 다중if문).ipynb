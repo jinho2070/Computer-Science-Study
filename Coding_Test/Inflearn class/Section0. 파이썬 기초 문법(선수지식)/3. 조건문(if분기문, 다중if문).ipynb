{
 "cells": [
  {
   "cell_type": "markdown",
   "metadata": {},
   "source": [
    "# 1. 조건문 if(분기, 중첩)"
   ]
  },
  {
   "cell_type": "markdown",
   "metadata": {},
   "source": [
    "## 1.1 if문"
   ]
  },
  {
   "cell_type": "markdown",
   "metadata": {},
   "source": [
    "### 1.1.1 관계 연산자 =="
   ]
  },
  {
   "cell_type": "code",
   "execution_count": 2,
   "metadata": {},
   "outputs": [
    {
     "name": "stdout",
     "output_type": "stream",
     "text": [
      "Lucky\n",
      "ㅋㅋ\n"
     ]
    }
   ],
   "source": [
    "x = 7\n",
    "\n",
    "# if문은 \"참\"일때 실행해 준다.\n",
    "if x == 7: \n",
    "    print( \"Lucky\")\n",
    "    print( \"ㅋㅋ\")"
   ]
  },
  {
   "cell_type": "code",
   "execution_count": null,
   "metadata": {},
   "outputs": [],
   "source": []
  },
  {
   "cell_type": "markdown",
   "metadata": {},
   "source": [
    "### 1.1.2 관계 연산자 !="
   ]
  },
  {
   "cell_type": "code",
   "execution_count": 5,
   "metadata": {},
   "outputs": [],
   "source": [
    "x = 7\n",
    "\n",
    "# if문은 \"참\"일때 실행해 주는데, x가 7이므로 아래의 문장들을 실행시켜 주지 않는다.\n",
    "if x != 7: \n",
    "    print( \"Lucky\")\n",
    "    print( \"ㅋㅋ\")"
   ]
  },
  {
   "cell_type": "code",
   "execution_count": null,
   "metadata": {},
   "outputs": [],
   "source": []
  },
  {
   "cell_type": "code",
   "execution_count": null,
   "metadata": {},
   "outputs": [],
   "source": []
  },
  {
   "cell_type": "markdown",
   "metadata": {},
   "source": [
    "## 1.2 중첩 if문"
   ]
  },
  {
   "cell_type": "code",
   "execution_count": 11,
   "metadata": {},
   "outputs": [
    {
     "name": "stdout",
     "output_type": "stream",
     "text": [
      "10이상의 홀수\n"
     ]
    }
   ],
   "source": [
    "x = 13\n",
    "\n",
    "if x >= 10:\n",
    "    if x % 2 == 1:\n",
    "        print( \"10이상의 홀수\")\n",
    "        "
   ]
  },
  {
   "cell_type": "code",
   "execution_count": 14,
   "metadata": {},
   "outputs": [
    {
     "name": "stdout",
     "output_type": "stream",
     "text": [
      "10보다 작은 자연수\n"
     ]
    }
   ],
   "source": [
    "x = 9\n",
    "\n",
    "if x > 0:\n",
    "    if x < 10:\n",
    "        print( \"10보다 작은 자연수\")\n",
    "        "
   ]
  },
  {
   "cell_type": "markdown",
   "metadata": {},
   "source": [
    "### 1.2.1 논리 연산자 and"
   ]
  },
  {
   "cell_type": "code",
   "execution_count": 18,
   "metadata": {},
   "outputs": [
    {
     "name": "stdout",
     "output_type": "stream",
     "text": [
      "10보다 작은 자연수\n",
      "10보다 작은 자연수\n",
      "10보다 작은 자연수\n"
     ]
    }
   ],
   "source": [
    "x = 7\n",
    "\n",
    "if x>0 and x<10:\n",
    "    print( \"10보다 작은 자연수\")\n",
    "    \n",
    "if x>0 & x<10:\n",
    "    print( \"10보다 작은 자연수\")\n",
    "    \n",
    "if 0<x<10:\n",
    "    print( \"10보다 작은 자연수\")"
   ]
  },
  {
   "cell_type": "code",
   "execution_count": null,
   "metadata": {},
   "outputs": [],
   "source": []
  },
  {
   "cell_type": "code",
   "execution_count": null,
   "metadata": {},
   "outputs": [],
   "source": []
  },
  {
   "cell_type": "markdown",
   "metadata": {},
   "source": [
    "## 1.3 분기 if문"
   ]
  },
  {
   "cell_type": "markdown",
   "metadata": {},
   "source": [
    "### 1.3.1 if ~ else"
   ]
  },
  {
   "cell_type": "code",
   "execution_count": 19,
   "metadata": {},
   "outputs": [
    {
     "name": "stdout",
     "output_type": "stream",
     "text": [
      "양수\n"
     ]
    }
   ],
   "source": [
    "x = 10\n",
    "\n",
    "\n",
    "if x>0:\n",
    "    print( \"양수\")\n",
    "else:\n",
    "    print( \"음수\")"
   ]
  },
  {
   "cell_type": "code",
   "execution_count": null,
   "metadata": {},
   "outputs": [],
   "source": []
  },
  {
   "cell_type": "code",
   "execution_count": null,
   "metadata": {},
   "outputs": [],
   "source": []
  },
  {
   "cell_type": "markdown",
   "metadata": {},
   "source": [
    "## 1.4 다중 if문"
   ]
  },
  {
   "cell_type": "markdown",
   "metadata": {},
   "source": [
    "### 1.4.1 if ~ elif ~ elif ~ else"
   ]
  },
  {
   "cell_type": "code",
   "execution_count": 20,
   "metadata": {},
   "outputs": [
    {
     "name": "stdout",
     "output_type": "stream",
     "text": [
      "A\n"
     ]
    }
   ],
   "source": [
    "x = 93\n",
    "\n",
    "if x>=90:\n",
    "    print( \"A\")\n",
    "\n",
    "elif x>80:\n",
    "    print(\"B\")\n",
    "    \n",
    "elif x>=70:\n",
    "    print(\"C\")\n",
    "\n",
    "elif x>=60:\n",
    "    print(\"D\")\n",
    "    \n",
    "else:\n",
    "    print(\"F\")"
   ]
  }
 ],
 "metadata": {
  "kernelspec": {
   "display_name": "Python 3.8.8 ('base')",
   "language": "python",
   "name": "python3"
  },
  "language_info": {
   "codemirror_mode": {
    "name": "ipython",
    "version": 3
   },
   "file_extension": ".py",
   "mimetype": "text/x-python",
   "name": "python",
   "nbconvert_exporter": "python",
   "pygments_lexer": "ipython3",
   "version": "3.8.8"
  },
  "orig_nbformat": 4,
  "vscode": {
   "interpreter": {
    "hash": "e129fd4b741fd9b59792b7a6505ea5ed2301338434cc47cee32707bead9744fa"
   }
  }
 },
 "nbformat": 4,
 "nbformat_minor": 2
}
